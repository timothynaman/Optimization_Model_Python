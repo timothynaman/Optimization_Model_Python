{
 "cells": [
  {
   "cell_type": "markdown",
   "id": "c0e2ae3d",
   "metadata": {},
   "source": [
    "# The Cornology Case - Optimization for Market Entry\n",
    "**A2 Data Analysis Team Project**\n",
    "\n",
    "**Hult International Business School** \n",
    "\n",
    "**2022 Spring Team 1 Members**\n",
    "\n",
    "Manuel Echazarra Casado\n",
    "\n",
    "Yuan Ning Chiang \n",
    "\n",
    "Tien-Wei Hsu \n",
    "\n",
    "Sicong Li \n",
    "\n",
    "Timothy Naman \n",
    "\n",
    "Linda Webb\n",
    "\n"
   ]
  },
  {
   "cell_type": "markdown",
   "id": "2e5fdb9b",
   "metadata": {},
   "source": [
    "## Import Libraries and Relevant Data"
   ]
  },
  {
   "cell_type": "code",
   "execution_count": 1,
   "id": "b0540d65",
   "metadata": {},
   "outputs": [
    {
     "name": "stdout",
     "output_type": "stream",
     "text": [
      "The maximum original unit is 90.0 per product run.\n",
      "The maximum flavor blast unit is 70.0 per product run.\n",
      "The demand matrix by region and flavor type: \n",
      "[[  0 180 127  90 118  90]\n",
      " [ 70 112  37  70  74   0]]\n",
      "The production runs per region and flavor type matrix: \n",
      "[[0. 2. 2. 1. 2. 1.]\n",
      " [1. 2. 1. 1. 1. 0.]]\n",
      "The demand that can be met based on number of production runs: \n",
      "[[  0. 180. 180.  90. 180.  90.]\n",
      " [ 70. 140.  70.  70.  70.   0.]]\n",
      "The final demand that will be met subject to the limits: \n",
      "[[  0. 180. 127.  90. 118.  90.]\n",
      " [ 70. 112.  37.  70.  70.   0.]]\n"
     ]
    }
   ],
   "source": [
    "# Import Libraries required\n",
    "\n",
    "import pulp as p\n",
    "import pandas as pd\n",
    "import numpy as np\n",
    "\n",
    "# Set the profits variables in an array\n",
    "profit_matrix = np.array([12500,7500]).reshape(2,1)\n",
    "\n",
    "## Define production maximums for orignal and flavor blast\n",
    "\n",
    "# One unit orginal needs 15,000 seeds, and 12,500 bottles \n",
    "# There is an overall limit on seeds and bottles that can be produced\n",
    "# This results in an effective maximum units that can be produced in a production run\n",
    "og_pr_max = min(1350000/15000,1575000/12500)\n",
    "\n",
    "# One unit flavor blast needs 12,500 seeds, and 22,500 bottles\n",
    "fb_pr_max = min(1350000/12500,1575000/22500)\n",
    "\n",
    "#printing to confirm the variables are correct\n",
    "print(f\"\"\"The maximum original unit is {og_pr_max} per product run.\"\"\")\n",
    "print(f\"\"\"The maximum flavor blast unit is {fb_pr_max} per product run.\"\"\")\n",
    "\n",
    "# Use np.array to get the maximum production amounts into one array\n",
    "pr_max = np.array([og_pr_max, fb_pr_max]).reshape(2, 1)\n",
    "\n",
    "# Input the demand for original by region and flavor blast per region\n",
    "#              | North East | YRD | South East | North Central | South Central| Western China\n",
    "# --------------------------------------------------------------------------------------------\n",
    "# Original     |\n",
    "# Flavor Blast |\n",
    "\n",
    "dmd_matrix = np.array([[0,180,127,90,118,90],[70,112,37,70,74,0]])\n",
    "\n",
    "# Create an adjusted demand matrix\n",
    "# Accounts for only needing to satisfy 90 percent of a region's demand\n",
    "min_pr_matrix = np.array(np.ceil(dmd_matrix*0.9/pr_max))\n",
    "\n",
    "# Create a matrix with the maximum that can be produced\n",
    "# Based on the number of production runs and the maximum number of units per run\n",
    "min_dmd_matrix = np.multiply(min_pr_matrix,pr_max)\n",
    "\n",
    "# The final demand matrix which is the minimum of the actual demand and the maximum that can be produced\n",
    "min_sup_matrix = np.minimum(dmd_matrix,min_dmd_matrix)\n",
    "\n",
    "print(f\"\"\"The demand matrix by region and flavor type: \n",
    "{dmd_matrix}\"\"\")\n",
    "\n",
    "print(f\"\"\"The production runs per region and flavor type matrix: \n",
    "{min_pr_matrix}\"\"\")\n",
    "\n",
    "print(f\"\"\"The demand that can be met based on number of production runs: \n",
    "{min_dmd_matrix}\"\"\")\n",
    "\n",
    "print(f\"\"\"The final demand that will be met subject to the limits: \n",
    "{min_sup_matrix}\"\"\")"
   ]
  },
  {
   "cell_type": "markdown",
   "id": "10cc0c83",
   "metadata": {},
   "source": [
    "## Define LP Problem and Decision Variables"
   ]
  },
  {
   "cell_type": "code",
   "execution_count": 2,
   "id": "b62e6b90",
   "metadata": {},
   "outputs": [
    {
     "name": "stdout",
     "output_type": "stream",
     "text": [
      "Decision Variable/Allocation Matrix: \n",
      "[[X_1 X_2 X_3 X_4 X_5 X_6]]\n"
     ]
    }
   ],
   "source": [
    "# Define the LP problem and confirm it is a maximization problem\n",
    "\n",
    "model = p.LpProblem(name = \"Cornology-Problem\", sense = p.LpMaximize)\n",
    "\n",
    "# Define the number of regions\n",
    "n_regions = 6\n",
    "\n",
    "# Create the string of the six regions\n",
    "# 1 - North East\n",
    "# 2 - YRD\n",
    "# 3 - South East\n",
    "# 4 - North Central\n",
    "# 5 - South Central\n",
    "# 6 - Western China\n",
    "variable_names = [str(i) for i in range(1, n_regions+1)]\n",
    "\n",
    "# Sort the names in correct order\n",
    "variable_names.sort(reverse = False)\n",
    "\n",
    "# Use the number string to add decision varibles X_1 to X6 to the model\n",
    "# The model has binary variables, 1 if we move into the region, 0 if not\n",
    "DV_variables = p.LpVariable.matrix(\"X\", variable_names, \n",
    "                                 cat      = \"Binary\", \n",
    "                                 lowBound = 0,\n",
    "                                 upBound  = 0)\n",
    "\n",
    "# Reshaping the decision variables\n",
    "allocation = np.array(DV_variables).reshape(1,6)\n",
    "\n",
    "# Print them out to make sure it is working\n",
    "print(f\"\"\"Decision Variable/Allocation Matrix: \n",
    "{allocation}\"\"\")"
   ]
  },
  {
   "cell_type": "code",
   "execution_count": 3,
   "id": "c5297cbe",
   "metadata": {},
   "outputs": [
    {
     "name": "stdout",
     "output_type": "stream",
     "text": [
      "The final demand with variable matrix is:\n",
      "[[0 180.0*X_2 + 0.0 127.0*X_3 + 0.0 90.0*X_4 + 0.0 118.0*X_5 + 0.0\n",
      "  90.0*X_6 + 0.0]\n",
      " [70.0*X_1 + 0.0 112.0*X_2 + 0.0 37.0*X_3 + 0.0 70.0*X_4 + 0.0\n",
      "  70.0*X_5 + 0.0 0]]\n"
     ]
    }
   ],
   "source": [
    "# Multiply out the final demand number by the variables\n",
    "sup_matrix = np.multiply(allocation, min_sup_matrix, out = None)\n",
    "\n",
    "print(f\"\"\"The final demand with variable matrix is:\n",
    "{sup_matrix}\"\"\")"
   ]
  },
  {
   "cell_type": "markdown",
   "id": "1b1e8507",
   "metadata": {},
   "source": [
    "## Define Objective Function"
   ]
  },
  {
   "cell_type": "code",
   "execution_count": 4,
   "id": "f843797f",
   "metadata": {},
   "outputs": [
    {
     "name": "stdout",
     "output_type": "stream",
     "text": [
      "Cornology-Problem:\n",
      "MAXIMIZE\n",
      "525000.0*X_1 + 3090000.0*X_2 + 1865000.0*X_3 + 1650000.0*X_4 + 2000000.0*X_5 + 1125000.0*X_6 + 0.0\n",
      "VARIABLES\n",
      "0 <= X_1 <= 1 Integer\n",
      "0 <= X_2 <= 1 Integer\n",
      "0 <= X_3 <= 1 Integer\n",
      "0 <= X_4 <= 1 Integer\n",
      "0 <= X_5 <= 1 Integer\n",
      "0 <= X_6 <= 1 Integer\n",
      "\n"
     ]
    }
   ],
   "source": [
    "# The objective function only takes into account the expected profit and the demand that can be met\n",
    "# Any once off set up costs are not included\n",
    "obj_func = p.lpSum(profit_matrix * sup_matrix)\n",
    "\n",
    "# Add the objective funtion to the model\n",
    "model +=  obj_func\n",
    "\n",
    "# Print out the model to ensure it is specified correctly\n",
    "print(model)\n"
   ]
  },
  {
   "cell_type": "markdown",
   "id": "ad580208",
   "metadata": {},
   "source": [
    "## Define Constraints"
   ]
  },
  {
   "cell_type": "code",
   "execution_count": 5,
   "id": "03cec764",
   "metadata": {},
   "outputs": [
    {
     "name": "stdout",
     "output_type": "stream",
     "text": [
      "The matrix for the production units per region and flavor type is:\n",
      "[[0 2.0*X_2 + 0.0 2.0*X_3 + 0.0 1.0*X_4 + 0.0 2.0*X_5 + 0.0 1.0*X_6 + 0.0]\n",
      " [1.0*X_1 + 0.0 2.0*X_2 + 0.0 1.0*X_3 + 0.0 1.0*X_4 + 0.0 1.0*X_5 + 0.0 0]]\n"
     ]
    }
   ],
   "source": [
    "# For one of the constraints we need a matrix with the decision variable multiplied by the number of production runs\n",
    "pr_matrix = np.multiply(allocation, min_pr_matrix)\n",
    "\n",
    "# Print out the matrix created\n",
    "print(f\"\"\"The matrix for the production units per region and flavor type is:\n",
    "{pr_matrix}\"\"\")\n"
   ]
  },
  {
   "cell_type": "code",
   "execution_count": 6,
   "id": "ced98fa9",
   "metadata": {},
   "outputs": [],
   "source": [
    "# The maximum of the production runs is 5\n",
    "# Add this to the model\n",
    "model += p.lpSum(pr_matrix) <= 5\n",
    "\n",
    "# At least one port needs to be chosen\n",
    "# The ports are linked to region 1, 2, 4 and 5\n",
    "# Add this to the model\n",
    "model += p.lpSum(allocation[ : , [0,1,3,5] ]) >= 1\n",
    "\n",
    "\n",
    "# We considered which regions are not possible if three regions are selected by the model\n",
    "# This is because they need to be adjacent to each other\n",
    "# The combinations below were identified\n",
    "\n",
    "model += p.lpSum(allocation[ : , [0,4,5] ]) <= 2\n",
    "model += p.lpSum(allocation[ : , [0,2,4] ]) <= 2\n",
    "model += p.lpSum(allocation[ : , [0,2,5] ]) <= 2\n",
    "model += p.lpSum(allocation[ : , [1,4,5] ]) <= 2\n",
    "model += p.lpSum(allocation[ : , [2,0,5] ]) <= 2\n",
    "model += p.lpSum(allocation[ : , [4,0,1] ]) <= 2\n",
    "model += p.lpSum(allocation[ : , [5,0,1] ]) <= 2\n",
    "model += p.lpSum(allocation[ : , [5,0,2] ]) <= 2\n",
    "model += p.lpSum(allocation[ : , [5,1,2] ]) <= 2"
   ]
  },
  {
   "cell_type": "code",
   "execution_count": 7,
   "id": "8e06770c",
   "metadata": {},
   "outputs": [],
   "source": [
    "# The model identified a combination of 2 regions\n",
    "# This means that there is a further infeasible solution as regions are not adjacent\n",
    "# As a result YRD (region 2) & Western China (region 6) cannot be chosen together and so was added as a constraint\n",
    "model += p.lpSum(allocation[ : , [1,5] ]) <= 1\n"
   ]
  },
  {
   "cell_type": "code",
   "execution_count": 8,
   "id": "733fd161",
   "metadata": {},
   "outputs": [
    {
     "name": "stdout",
     "output_type": "stream",
     "text": [
      "Cornology-Problem:\n",
      "MAXIMIZE\n",
      "525000.0*X_1 + 3090000.0*X_2 + 1865000.0*X_3 + 1650000.0*X_4 + 2000000.0*X_5 + 1125000.0*X_6 + 0.0\n",
      "SUBJECT TO\n",
      "_C1: X_1 + 4 X_2 + 3 X_3 + 2 X_4 + 3 X_5 + X_6 <= 5\n",
      "\n",
      "_C2: X_1 + X_2 + X_4 + X_6 >= 1\n",
      "\n",
      "_C3: X_1 + X_5 + X_6 <= 2\n",
      "\n",
      "_C4: X_1 + X_3 + X_5 <= 2\n",
      "\n",
      "_C5: X_1 + X_3 + X_6 <= 2\n",
      "\n",
      "_C6: X_2 + X_5 + X_6 <= 2\n",
      "\n",
      "_C7: X_1 + X_3 + X_6 <= 2\n",
      "\n",
      "_C8: X_1 + X_2 + X_5 <= 2\n",
      "\n",
      "_C9: X_1 + X_2 + X_6 <= 2\n",
      "\n",
      "_C10: X_1 + X_3 + X_6 <= 2\n",
      "\n",
      "_C11: X_2 + X_3 + X_6 <= 2\n",
      "\n",
      "_C12: X_2 + X_6 <= 1\n",
      "\n",
      "VARIABLES\n",
      "0 <= X_1 <= 1 Integer\n",
      "0 <= X_2 <= 1 Integer\n",
      "0 <= X_3 <= 1 Integer\n",
      "0 <= X_4 <= 1 Integer\n",
      "0 <= X_5 <= 1 Integer\n",
      "0 <= X_6 <= 1 Integer\n",
      "\n"
     ]
    }
   ],
   "source": [
    "# Print out the model to ensure it is specified correctly\n",
    "print(model)"
   ]
  },
  {
   "cell_type": "markdown",
   "id": "056893a6",
   "metadata": {},
   "source": [
    "## Solve the Model"
   ]
  },
  {
   "cell_type": "code",
   "execution_count": 9,
   "id": "13a33745",
   "metadata": {},
   "outputs": [
    {
     "name": "stdout",
     "output_type": "stream",
     "text": [
      "The model finds the following result: Optimal\n"
     ]
    }
   ],
   "source": [
    "# The function to solve the model\n",
    "model.solve(solver = None)\n",
    "\n",
    "print(f\"\"\"The model finds the following result: {p.LpStatus[model.status]}\"\"\")\n"
   ]
  },
  {
   "cell_type": "markdown",
   "id": "4cc2f2b7",
   "metadata": {},
   "source": [
    "## Optimal Solution"
   ]
  },
  {
   "cell_type": "code",
   "execution_count": 10,
   "id": "83916d01",
   "metadata": {},
   "outputs": [
    {
     "name": "stdout",
     "output_type": "stream",
     "text": [
      "Maximized Profit: 3650000.0\n",
      "X_1 = 0.0\n",
      "X_2 = 0.0\n",
      "X_3 = 0.0\n",
      "X_4 = 1.0\n",
      "X_5 = 1.0\n",
      "X_6 = 0.0\n"
     ]
    }
   ],
   "source": [
    "# Print the optimal value of the objective function\n",
    "print(\"Maximized Profit:\", model.objective.value())\n",
    "\n",
    "# Print the chosen regions, 1 as chosen, 0 as non chosen\n",
    "# Identify if there's any errors\n",
    "\n",
    "for dec_var in model.variables():\n",
    "    try:\n",
    "        print(dec_var.name,\"=\", dec_var.value())\n",
    "    except:\n",
    "        print(\"error couldnt find value\")"
   ]
  },
  {
   "cell_type": "markdown",
   "id": "d29b7885",
   "metadata": {},
   "source": [
    "##### Comment:\n",
    "This means that the North Central and South Central region is selected to reach a maximized profit of $3,650,000. The port would be in North Central as there is no option for a port in the South Central region."
   ]
  },
  {
   "cell_type": "markdown",
   "id": "644e77a2",
   "metadata": {},
   "source": [
    "## Alternative Solution (Second Most Profit)"
   ]
  },
  {
   "cell_type": "code",
   "execution_count": 11,
   "id": "1910c132",
   "metadata": {},
   "outputs": [
    {
     "name": "stdout",
     "output_type": "stream",
     "text": [
      "Cornology-Problem:\n",
      "MAXIMIZE\n",
      "525000.0*X_1 + 3090000.0*X_2 + 1865000.0*X_3 + 1650000.0*X_4 + 2000000.0*X_5 + 1125000.0*X_6 + 0.0\n",
      "SUBJECT TO\n",
      "_C1: X_1 + 4 X_2 + 3 X_3 + 2 X_4 + 3 X_5 + X_6 <= 5\n",
      "\n",
      "_C2: X_1 + X_2 + X_4 + X_6 >= 1\n",
      "\n",
      "_C3: X_1 + X_5 + X_6 <= 2\n",
      "\n",
      "_C4: X_1 + X_3 + X_5 <= 2\n",
      "\n",
      "_C5: X_1 + X_3 + X_6 <= 2\n",
      "\n",
      "_C6: X_2 + X_5 + X_6 <= 2\n",
      "\n",
      "_C7: X_1 + X_3 + X_6 <= 2\n",
      "\n",
      "_C8: X_1 + X_2 + X_5 <= 2\n",
      "\n",
      "_C9: X_1 + X_2 + X_6 <= 2\n",
      "\n",
      "_C10: X_1 + X_3 + X_6 <= 2\n",
      "\n",
      "_C11: X_2 + X_3 + X_6 <= 2\n",
      "\n",
      "_C12: X_2 + X_6 <= 1\n",
      "\n",
      "VARIABLES\n",
      "0 <= X_1 <= 1 Integer\n",
      "0 <= X_2 <= 1 Integer\n",
      "0 <= X_3 <= 1 Integer\n",
      "0 <= X_4 <= 1 Integer\n",
      "0 <= X_5 <= 1 Integer\n",
      "0 <= X_6 <= 1 Integer\n",
      "\n",
      "Cornology-Problem:\n",
      "MAXIMIZE\n",
      "525000.0*X_1 + 3090000.0*X_2 + 1865000.0*X_3 + 1650000.0*X_4 + 2000000.0*X_5 + 1125000.0*X_6 + 0.0\n",
      "SUBJECT TO\n",
      "_C1: X_1 + 4 X_2 + 3 X_3 + 2 X_4 + 3 X_5 + X_6 <= 5\n",
      "\n",
      "_C2: X_1 + X_2 + X_4 + X_6 >= 1\n",
      "\n",
      "_C3: X_1 + X_5 + X_6 <= 2\n",
      "\n",
      "_C4: X_1 + X_3 + X_5 <= 2\n",
      "\n",
      "_C5: X_1 + X_3 + X_6 <= 2\n",
      "\n",
      "_C6: X_2 + X_5 + X_6 <= 2\n",
      "\n",
      "_C7: X_1 + X_3 + X_6 <= 2\n",
      "\n",
      "_C8: X_1 + X_2 + X_5 <= 2\n",
      "\n",
      "_C9: X_1 + X_2 + X_6 <= 2\n",
      "\n",
      "_C10: X_1 + X_3 + X_6 <= 2\n",
      "\n",
      "_C11: X_2 + X_3 + X_6 <= 2\n",
      "\n",
      "_C12: X_2 + X_6 <= 1\n",
      "\n",
      "_C13: X_4 + X_5 <= 1\n",
      "\n",
      "VARIABLES\n",
      "0 <= X_1 <= 1 Integer\n",
      "0 <= X_2 <= 1 Integer\n",
      "0 <= X_3 <= 1 Integer\n",
      "0 <= X_4 <= 1 Integer\n",
      "0 <= X_5 <= 1 Integer\n",
      "0 <= X_6 <= 1 Integer\n",
      "\n"
     ]
    }
   ],
   "source": [
    "# The model to date was copied into another name model_alt\n",
    "# In order to identify the next best solution a further constraint was added\n",
    "# Exclude the combination of North Central & South Central\n",
    "\n",
    "model_alt = model.copy()\n",
    "\n",
    "model_alt += p.lpSum(allocation[ : , [3,4] ]) <= 1\n",
    "print(model)\n",
    "print(model_alt)"
   ]
  },
  {
   "cell_type": "code",
   "execution_count": 12,
   "id": "0731600f",
   "metadata": {},
   "outputs": [
    {
     "name": "stdout",
     "output_type": "stream",
     "text": [
      "The model finds the following result: Optimal\n"
     ]
    }
   ],
   "source": [
    "# Solve the alternative model\n",
    "model_alt.solve(solver = None)\n",
    "\n",
    "print(f\"\"\"The model finds the following result: {p.LpStatus[model_alt.status]}\"\"\")\n"
   ]
  },
  {
   "cell_type": "code",
   "execution_count": 13,
   "id": "c177ac77",
   "metadata": {},
   "outputs": [
    {
     "name": "stdout",
     "output_type": "stream",
     "text": [
      "Maximize Profit: 3615000.0\n",
      "X_1 = 1.0\n",
      "X_2 = 1.0\n",
      "X_3 = 0.0\n",
      "X_4 = 0.0\n",
      "X_5 = 0.0\n",
      "X_6 = 0.0\n"
     ]
    }
   ],
   "source": [
    "# Print the optimal value of the objective function from the alternate model\n",
    "print(\"Maximize Profit:\", model_alt.objective.value())\n",
    "\n",
    "# Print the chosen regions, 1 as chosen, 0 as non chosen\n",
    "# Identify if there's any errors\n",
    "\n",
    "for dec_var in model_alt.variables():\n",
    "    try:\n",
    "        print(dec_var.name,\"=\", dec_var.value())\n",
    "    except:\n",
    "        print(\"error couldnt find value\")"
   ]
  },
  {
   "cell_type": "markdown",
   "id": "0467f7c2",
   "metadata": {},
   "source": [
    "##### Comment:\n",
    "This means that the alternative solution is to enter YRD and the North East to reach the profit of 3,615,000. Both of these are ports and therefore the choice of which port to use will depend on the benefit of placing a factory in those regions."
   ]
  }
 ],
 "metadata": {
  "kernelspec": {
   "display_name": "Python 3 (ipykernel)",
   "language": "python",
   "name": "python3"
  },
  "language_info": {
   "codemirror_mode": {
    "name": "ipython",
    "version": 3
   },
   "file_extension": ".py",
   "mimetype": "text/x-python",
   "name": "python",
   "nbconvert_exporter": "python",
   "pygments_lexer": "ipython3",
   "version": "3.9.7"
  },
  "toc": {
   "base_numbering": 1,
   "nav_menu": {},
   "number_sections": true,
   "sideBar": true,
   "skip_h1_title": false,
   "title_cell": "Table of Contents",
   "title_sidebar": "Contents",
   "toc_cell": false,
   "toc_position": {},
   "toc_section_display": true,
   "toc_window_display": false
  },
  "varInspector": {
   "cols": {
    "lenName": 16,
    "lenType": 16,
    "lenVar": 40
   },
   "kernels_config": {
    "python": {
     "delete_cmd_postfix": "",
     "delete_cmd_prefix": "del ",
     "library": "var_list.py",
     "varRefreshCmd": "print(var_dic_list())"
    },
    "r": {
     "delete_cmd_postfix": ") ",
     "delete_cmd_prefix": "rm(",
     "library": "var_list.r",
     "varRefreshCmd": "cat(var_dic_list()) "
    }
   },
   "types_to_exclude": [
    "module",
    "function",
    "builtin_function_or_method",
    "instance",
    "_Feature"
   ],
   "window_display": false
  }
 },
 "nbformat": 4,
 "nbformat_minor": 5
}
